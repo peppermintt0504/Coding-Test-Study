{
 "cells": [
  {
   "cell_type": "code",
   "execution_count": null,
   "metadata": {},
   "outputs": [],
   "source": []
  },
  {
   "cell_type": "code",
   "execution_count": 12,
   "metadata": {},
   "outputs": [],
   "source": [
    "def solution(n, k, cmd):\n",
    "    answer = ''\n",
    "    \n",
    "    arr = [['O']*n]\n",
    "    for i in range(len(cmd)):\n",
    "        C = cmd[i].split(\" \")\n",
    "        print(C)\n",
    "        \n",
    "        if C[0] == 'U':\n",
    "            k = k + int(C[1])\n",
    "        if C[0] == 'D':\n",
    "            k = k - int(C[1])\n",
    "        if C[0] == 'C':\n",
    "            \n",
    "        if C[0] == 'Z':\n",
    "            \n",
    "    return answer"
   ]
  },
  {
   "cell_type": "code",
   "execution_count": 13,
   "metadata": {},
   "outputs": [
    {
     "name": "stdout",
     "output_type": "stream",
     "text": [
      "['D', '2']\n",
      "D  +  2\n",
      "['C']\n",
      "C\n",
      "['U', '3']\n",
      "U  +  3\n",
      "['C']\n",
      "C\n",
      "['D', '4']\n",
      "D  +  4\n",
      "['C']\n",
      "C\n",
      "['U', '2']\n",
      "U  +  2\n",
      "['Z']\n",
      "Z\n",
      "['Z']\n",
      "Z\n"
     ]
    },
    {
     "data": {
      "text/plain": [
       "''"
      ]
     },
     "execution_count": 13,
     "metadata": {},
     "output_type": "execute_result"
    }
   ],
   "source": [
    "n = 8\n",
    "k = 2\n",
    "cmd = [\"D 2\",\"C\",\"U 3\",\"C\",\"D 4\",\"C\",\"U 2\",\"Z\",\"Z\"]\n",
    "solution(n,k,cmd)"
   ]
  },
  {
   "cell_type": "code",
   "execution_count": null,
   "metadata": {},
   "outputs": [],
   "source": []
  }
 ],
 "metadata": {
  "kernelspec": {
   "display_name": "Python 3",
   "language": "python",
   "name": "python3"
  },
  "language_info": {
   "codemirror_mode": {
    "name": "ipython",
    "version": 3
   },
   "file_extension": ".py",
   "mimetype": "text/x-python",
   "name": "python",
   "nbconvert_exporter": "python",
   "pygments_lexer": "ipython3",
   "version": "3.8.5"
  }
 },
 "nbformat": 4,
 "nbformat_minor": 4
}
