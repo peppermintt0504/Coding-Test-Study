{
 "cells": [
  {
   "cell_type": "code",
   "execution_count": null,
   "metadata": {},
   "outputs": [],
   "source": [
    "import math\n",
    "\n",
    "\n",
    "T = int(input())\n",
    "\n",
    "for i in range(T):\n",
    "    x1, y1, r1, x2, y2, r2 = map(int,input().split(\" \")) \n",
    "    d = math.sqrt(pow(x1 - x2, 2) + pow(y1 - y2, 2))\n",
    "    \n",
    "    if d  > (r1+r2) : result = 0\n",
    "    if d == (r1+r2) : result = 1\n",
    "    if abs(r1-r2) < d < (r1+r2) : result = 2\n",
    "    if abs(r1-r2) == d :result = 1\n",
    "    if abs(r1-r2) > d :result = 0\n",
    "    if d == 0 :\n",
    "        if r1 == r2 : result = -1\n",
    "    \n",
    "    print(result)\n",
    "    \n",
    "\n",
    "\n"
   ]
  }
 ],
 "metadata": {
  "kernelspec": {
   "display_name": "Python 3",
   "language": "python",
   "name": "python3"
  },
  "language_info": {
   "codemirror_mode": {
    "name": "ipython",
    "version": 3
   },
   "file_extension": ".py",
   "mimetype": "text/x-python",
   "name": "python",
   "nbconvert_exporter": "python",
   "pygments_lexer": "ipython3",
   "version": "3.8.6"
  }
 },
 "nbformat": 4,
 "nbformat_minor": 4
}
