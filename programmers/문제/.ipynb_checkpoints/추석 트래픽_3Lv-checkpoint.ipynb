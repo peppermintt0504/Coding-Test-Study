{
 "cells": [
  {
   "cell_type": "code",
   "execution_count": 4,
   "id": "605b4ac4",
   "metadata": {},
   "outputs": [],
   "source": [
    "lines =  [\n",
    "\"2016-09-15 20:59:57.421 0.351s\",\n",
    "\"2016-09-15 20:59:58.233 1.181s\",\n",
    "\"2016-09-15 20:59:58.299 0.8s\",\n",
    "\"2016-09-15 20:59:58.688 1.041s\",\n",
    "\"2016-09-15 20:59:59.591 1.412s\",\n",
    "\"2016-09-15 21:00:00.464 1.466s\",\n",
    "\"2016-09-15 21:00:00.741 1.581s\",\n",
    "\"2016-09-15 21:00:00.748 2.31s\",\n",
    "\"2016-09-15 21:00:00.966 0.381s\",\n",
    "\"2016-09-15 21:00:02.066 2.62s\"\n",
    "]"
   ]
  },
  {
   "cell_type": "code",
   "execution_count": 71,
   "id": "b5367289",
   "metadata": {},
   "outputs": [
    {
     "name": "stdout",
     "output_type": "stream",
     "text": [
      "[0.001, 0.813, 0.879, 1.268, 2.171, 3.044, 3.321, 3.328, 3.546, 4.646]\n"
     ]
    },
    {
     "data": {
      "text/plain": [
       "5"
      ]
     },
     "execution_count": 71,
     "metadata": {},
     "output_type": "execute_result"
    }
   ],
   "source": [
    "def solution(lines):\n",
    "    answer = 0\n",
    "    date = []\n",
    "    start= []\n",
    "    end = []\n",
    "    test = 0\n",
    "    temp = 0\n",
    "    \n",
    "    proc = []\n",
    "    \n",
    "    start_time = float(str(int(lines[0].split()[1][:2])*3600 + int(lines[0].split()[1][3:5])*60 + int(lines[0].split()[1][6:8])) + str(lines[0].split()[1][8:]))\n",
    "    \n",
    "    for i in range(len(lines)):\n",
    "        temp = lines[i].split()\n",
    "        date.append(temp[0])\n",
    "        start.append(round(float(str(int(temp[1][:2])*3600 + int(temp[1][3:5])*60 + int(temp[1][6:8])) + str(temp[1][8:])) - start_time+ 0.001,3) )\n",
    "        end.append(start[i] + round(float(temp[2][:-1]),3))\n",
    "    \n",
    "    print(start)\n",
    "    for i in range(len(lines)):\n",
    "        temp = 0\n",
    "        test = start[i]\n",
    "        for j in range(len(lines)):\n",
    "            if start[j]<=test<=end[j]:\n",
    "                temp += 1\n",
    "                \n",
    "        if temp > answer : answer = temp\n",
    "        \n",
    "        temp = 0\n",
    "        test = end[i]\n",
    "        for j in range(len(lines)):\n",
    "            if start[j]<=test<=end[j]:\n",
    "                temp += 1\n",
    "    \n",
    "    \n",
    "    \n",
    "    \n",
    "    return answer\n",
    "\n",
    "solution(lines)"
   ]
  }
 ],
 "metadata": {
  "kernelspec": {
   "display_name": "Python 3",
   "language": "python",
   "name": "python3"
  },
  "language_info": {
   "codemirror_mode": {
    "name": "ipython",
    "version": 3
   },
   "file_extension": ".py",
   "mimetype": "text/x-python",
   "name": "python",
   "nbconvert_exporter": "python",
   "pygments_lexer": "ipython3",
   "version": "3.9.4"
  }
 },
 "nbformat": 4,
 "nbformat_minor": 5
}
