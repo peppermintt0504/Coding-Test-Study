{
 "cells": [
  {
   "cell_type": "code",
   "execution_count": 2,
   "metadata": {},
   "outputs": [
    {
     "ename": "ModuleNotFoundError",
     "evalue": "No module named 'keras'",
     "output_type": "error",
     "traceback": [
      "\u001b[1;31m---------------------------------------------------------------------------\u001b[0m",
      "\u001b[1;31mModuleNotFoundError\u001b[0m                       Traceback (most recent call last)",
      "\u001b[1;32m<ipython-input-2-88d96843a926>\u001b[0m in \u001b[0;36m<module>\u001b[1;34m\u001b[0m\n\u001b[1;32m----> 1\u001b[1;33m \u001b[1;32mimport\u001b[0m \u001b[0mkeras\u001b[0m\u001b[1;33m\u001b[0m\u001b[1;33m\u001b[0m\u001b[0m\n\u001b[0m",
      "\u001b[1;31mModuleNotFoundError\u001b[0m: No module named 'keras'"
     ]
    }
   ],
   "source": [
    "import keras"
   ]
  },
  {
   "cell_type": "code",
   "execution_count": 106,
   "metadata": {},
   "outputs": [],
   "source": [
    "def up(arr,k,i):\n",
    "    print(\"-\",arr[k-int(i):k])\n",
    "    k = k - int(i) - arr[k-int(i):k].count('X')\n",
    "    \n",
    "    return k\n",
    "\n",
    "def down(arr,k,i):\n",
    "    print(\"-\",arr[k:k+int(i)])\n",
    "    k = k + int(i) + arr[k+1:k+int(i)].count('X')\n",
    "    return k\n",
    "\n",
    "def solution(n, k, cmd):\n",
    "    answer = ''\n",
    "    \n",
    "    \n",
    "    \n",
    "    arr = ['O' for _ in range(n)]\n",
    "    loc = ['O' for _ in range(n)]\n",
    "    dele = []\n",
    "    \n",
    "    \n",
    "    \n",
    "    \n",
    "    for i in range(len(cmd)):\n",
    "        C = cmd[i].split(\" \")\n",
    "        print(\"k = \",k,\"commend:\",C)\n",
    "        \n",
    "        if C[0] == 'U':\n",
    "            k = up(arr,k,C[1])\n",
    "        if C[0] == 'D':\n",
    "            k = down(arr,k,C[1])\n",
    "        if C[0] == 'C':\n",
    "            arr[k] = 'X'\n",
    "            dele.append(int(k))\n",
    "            k = down(arr,k,1)\n",
    "            \n",
    "        if C[0] == 'Z':\n",
    "            arr[dele.pop()] =\"O\"\n",
    "            \n",
    "        \n",
    "        \n",
    "        print(arr,\"\\n\")\n",
    "    for i in arr:\n",
    "        answer = answer+i\n",
    "    return answer"
   ]
  },
  {
   "cell_type": "code",
   "execution_count": 108,
   "metadata": {},
   "outputs": [
    {
     "name": "stdout",
     "output_type": "stream",
     "text": [
      "k =  2 commend: ['D', '2']\n",
      "- ['O', 'O']\n",
      "['O', 'O', 'O', 'O', 'O', 'O', 'O', 'O'] \n",
      "\n",
      "k =  4 commend: ['C']\n",
      "- ['X']\n",
      "['O', 'O', 'O', 'O', 'X', 'O', 'O', 'O'] \n",
      "\n",
      "k =  5 commend: ['U', '3']\n",
      "- ['O', 'O', 'X']\n",
      "['O', 'O', 'O', 'O', 'X', 'O', 'O', 'O'] \n",
      "\n",
      "k =  1 commend: ['C']\n",
      "- ['X']\n",
      "['O', 'X', 'O', 'O', 'X', 'O', 'O', 'O'] \n",
      "\n",
      "k =  2 commend: ['D', '4']\n",
      "- ['O', 'O', 'X', 'O']\n",
      "['O', 'X', 'O', 'O', 'X', 'O', 'O', 'O'] \n",
      "\n",
      "k =  7 commend: ['C']\n",
      "- ['X']\n",
      "['O', 'X', 'O', 'O', 'X', 'O', 'O', 'X'] \n",
      "\n",
      "k =  8 commend: ['U', '2']\n",
      "- ['O', 'X']\n",
      "['O', 'X', 'O', 'O', 'X', 'O', 'O', 'X'] \n",
      "\n",
      "k =  5 commend: ['Z']\n",
      "['O', 'X', 'O', 'O', 'X', 'O', 'O', 'O'] \n",
      "\n",
      "k =  5 commend: ['Z']\n",
      "['O', 'O', 'O', 'O', 'X', 'O', 'O', 'O'] \n",
      "\n",
      "k =  5 commend: ['U', '1']\n",
      "- ['X']\n",
      "['O', 'O', 'O', 'O', 'X', 'O', 'O', 'O'] \n",
      "\n",
      "k =  3 commend: ['C']\n",
      "- ['X']\n",
      "['O', 'O', 'O', 'X', 'X', 'O', 'O', 'O'] \n",
      "\n"
     ]
    },
    {
     "data": {
      "text/plain": [
       "'OOOXXOOO'"
      ]
     },
     "execution_count": 108,
     "metadata": {},
     "output_type": "execute_result"
    }
   ],
   "source": [
    "n = 8\n",
    "k = 2\n",
    "cmd = [\"D 2\", \"C\", \"U 3\", \"C\", \"D 4\", \"C\", \"U 2\", \"Z\", \"Z\", \"U 1\", \"C\"]\n",
    "solution(n,k,cmd)"
   ]
  },
  {
   "cell_type": "code",
   "execution_count": null,
   "metadata": {},
   "outputs": [],
   "source": []
  }
 ],
 "metadata": {
  "kernelspec": {
   "display_name": "Python 3",
   "language": "python",
   "name": "python3"
  },
  "language_info": {
   "codemirror_mode": {
    "name": "ipython",
    "version": 3
   },
   "file_extension": ".py",
   "mimetype": "text/x-python",
   "name": "python",
   "nbconvert_exporter": "python",
   "pygments_lexer": "ipython3",
   "version": "3.8.5"
  }
 },
 "nbformat": 4,
 "nbformat_minor": 4
}
