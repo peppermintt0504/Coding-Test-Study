{
 "cells": [
  {
   "cell_type": "code",
   "execution_count": 20,
   "metadata": {},
   "outputs": [],
   "source": [
    "from itertools import permutations\n",
    "from itertools import combinations\n",
    "\n"
   ]
  },
  {
   "cell_type": "code",
   "execution_count": 10,
   "metadata": {
    "scrolled": true
   },
   "outputs": [
    {
     "name": "stdout",
     "output_type": "stream",
     "text": [
      "4 30\n",
      "4 30\n",
      "20 55\n",
      "1 20\n",
      "3 6\n",
      "40 100\n",
      "[1, 20, 3, 6]\n"
     ]
    }
   ],
   "source": [
    "a = input()\n",
    "n,k = map(int,a.split(\" \"))\n",
    "print(n , k)\n",
    "\n",
    "o = []\n",
    "\n",
    "for i in range(n):\n",
    "    a = input()\n",
    "    w , v = map(int, a.split(\" \"))\n",
    "    o.append([w,v])\n",
    "    \n",
    "o.sort()\n",
    "\n"
   ]
  },
  {
   "cell_type": "code",
   "execution_count": 11,
   "metadata": {
    "scrolled": true
   },
   "outputs": [
    {
     "data": {
      "text/plain": [
       "[[1, 20], [3, 6], [20, 55], [40, 100]]"
      ]
     },
     "execution_count": 11,
     "metadata": {},
     "output_type": "execute_result"
    }
   ],
   "source": [
    "o"
   ]
  },
  {
   "cell_type": "code",
   "execution_count": 12,
   "metadata": {
    "scrolled": false
   },
   "outputs": [
    {
     "name": "stdout",
     "output_type": "stream",
     "text": [
      "[1, 20, 3, 6]\n"
     ]
    }
   ],
   "source": [
    "total = []\n",
    "\n",
    "for i in range(len(o)):\n",
    "    total.append(o[i][0])\n",
    "    for j in range(len(o)-1):\n",
    "        if(o[i][0]+o[j+1][0] > k):\n",
    "            break\n",
    "        "
   ]
  },
  {
   "cell_type": "code",
   "execution_count": 31,
   "metadata": {},
   "outputs": [
    {
     "name": "stdout",
     "output_type": "stream",
     "text": [
      "([1, 20], [3, 6])\n",
      "26\n",
      "([1, 20], [20, 55])\n",
      "75\n",
      "([1, 20], [40, 100])\n"
     ]
    },
    {
     "data": {
      "text/plain": [
       "[26, 75]"
      ]
     },
     "execution_count": 31,
     "metadata": {},
     "output_type": "execute_result"
    }
   ],
   "source": [
    "total=[]\n",
    "for i in list(permutations(o,2)):\n",
    "    print(i)\n",
    "    if (i[0][0]+i[1][0]>k):\n",
    "        break\n",
    "    total.append(i[0][1]+i[1][1])\n",
    "    print(i[0][1]+i[1][1])\n",
    "\n",
    "total"
   ]
  }
 ],
 "metadata": {
  "kernelspec": {
   "display_name": "Python 3",
   "language": "python",
   "name": "python3"
  },
  "language_info": {
   "codemirror_mode": {
    "name": "ipython",
    "version": 3
   },
   "file_extension": ".py",
   "mimetype": "text/x-python",
   "name": "python",
   "nbconvert_exporter": "python",
   "pygments_lexer": "ipython3",
   "version": "3.8.5"
  }
 },
 "nbformat": 4,
 "nbformat_minor": 4
}
