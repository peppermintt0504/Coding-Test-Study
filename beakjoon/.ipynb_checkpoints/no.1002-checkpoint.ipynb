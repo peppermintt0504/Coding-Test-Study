{
 "cells": [
  {
   "cell_type": "code",
   "execution_count": null,
   "metadata": {},
   "outputs": [],
   "source": [
    "import math\n",
    "a = []\n",
    "result = []\n",
    "T = input()\n",
    "\n",
    "for i in range(int(T)):\n",
    "    a.append(input().split(\" \"))\n",
    "    r = int(math.sqrt(pow((int(a[i][0])-int(a[i][3])),2) + pow((int(a[i][1])-int(a[i][4])),2)))\n",
    "    \n",
    "    r1 = int(a[i][2])\n",
    "    r2 = int(a[i][5])\n",
    "\n",
    "    if (r1+r2) < r : result.append(\"0\")\n",
    "    elif (r1+r2) == r : result.append(\"1\")\n",
    "    elif abs(r1 - r2) < r < (r1 + r2) : result.append(\"2\")\n",
    "    elif abs(r1 - r2) == r : result.append(\"1\")\n",
    "    elif abs(r1 - r2) > r : result.append(\"0\")\n",
    "    elif r == 0 and r1==r2 : result.append(\"-1\")\n",
    "\n",
    "for j in result : print(j)\n",
    "\n"
   ]
  }
 ],
 "metadata": {
  "kernelspec": {
   "display_name": "Python 3",
   "language": "python",
   "name": "python3"
  },
  "language_info": {
   "codemirror_mode": {
    "name": "ipython",
    "version": 3
   },
   "file_extension": ".py",
   "mimetype": "text/x-python",
   "name": "python",
   "nbconvert_exporter": "python",
   "pygments_lexer": "ipython3",
   "version": "3.8.6"
  }
 },
 "nbformat": 4,
 "nbformat_minor": 4
}
