{
 "cells": [
  {
   "cell_type": "code",
   "execution_count": 98,
   "id": "513fbc67",
   "metadata": {},
   "outputs": [],
   "source": [
    "tickets=[[\"ICN\", \"JFK\"], [\"HND\", \"IAD\"], [\"JFK\", \"HND\"]]"
   ]
  },
  {
   "cell_type": "code",
   "execution_count": 106,
   "id": "41c552a0",
   "metadata": {},
   "outputs": [],
   "source": [
    "tickets = [[\"ICN\", \"SFO\"], [\"ICN\", \"ATL\"], [\"SFO\", \"ATL\"], [\"ATL\", \"ICN\"], [\"ATL\",\"SFO\"]]"
   ]
  },
  {
   "cell_type": "code",
   "execution_count": 116,
   "id": "0f2f6eba",
   "metadata": {},
   "outputs": [
    {
     "name": "stdout",
     "output_type": "stream",
     "text": [
      "1  :  ICN  ->  SFO\n",
      "2  :  SFO  ->  ATL\n",
      "3  :  ATL  ->  ICN\n",
      "4  :  ICN  ->  ATL\n",
      "5  :  ATL  ->  SFO\n",
      "3  :  ATL  ->  SFO\n",
      "1  :  ICN  ->  ATL\n",
      "2  :  ATL  ->  ICN\n",
      "3  :  ICN  ->  SFO\n",
      "4  :  SFO  ->  ATL\n",
      "5  :  ATL  ->  SFO\n",
      "1 change   SFO ATL\n",
      "['ICN', 'ATL', 'ICN', 'SFO', 'ATL', 'SFO']\n",
      "2  :  ATL  ->  SFO\n",
      "3  :  SFO  ->  ATL\n",
      "4  :  ATL  ->  ICN\n",
      "5  :  ICN  ->  SFO\n"
     ]
    },
    {
     "data": {
      "text/plain": [
       "['ICN', 'ATL', 'ICN', 'SFO', 'ATL', 'SFO']"
      ]
     },
     "execution_count": 116,
     "metadata": {},
     "output_type": "execute_result"
    }
   ],
   "source": [
    "\n",
    "    \n",
    "\n",
    "def solution(tickets):\n",
    "    \n",
    "    def DFS(count,go):\n",
    "    \n",
    "        if 0 not in visited:\n",
    "            answer[0] = \"ICN\"\n",
    "            \n",
    "            if answer[1] != \"\":\n",
    "                for i in range(1,len(visited)):\n",
    "                    if answer[i] == tickets[visited.index(i)][1]:\n",
    "                        continue\n",
    "                        \n",
    "                    if answer[i] > tickets[visited.index(i)][1]:\n",
    "                        print(i,\"change  \", answer[i], tickets[visited.index(i)][1])\n",
    "                        for j in range(len(visited)):\n",
    "                            answer[j+1] = tickets[visited.index(j+1)][1]\n",
    "                        print(answer)\n",
    "                        break\n",
    "                    else : break\n",
    "\n",
    "            \n",
    "            else:\n",
    "                for i in range(len(visited)):\n",
    "                    answer[i+1] = tickets[visited.index(i+1)][1]\n",
    "\n",
    "            \n",
    "\n",
    "        \n",
    "        \n",
    "\n",
    "        for i in range(len(tickets)):\n",
    "            if visited[i] != 0 :\n",
    "                continue\n",
    "            \n",
    "            if go == tickets[i][0]:\n",
    "                \n",
    "                print(count,\" : \",go,\" -> \",tickets[i][1])\n",
    "                visited[i] = count\n",
    "                DFS(count+1,tickets[i][1])\n",
    "                visited[i] = 0\n",
    "    \n",
    "    \n",
    "    answer = [\"\" for i in range(len(tickets)+1)]\n",
    "    visited = [0 for i in range(len(tickets))]\n",
    "    \n",
    "    DFS(1,\"ICN\")\n",
    "    \n",
    "    \n",
    "    \n",
    "    return answer\n",
    "    \n",
    "    \n",
    "\n",
    "solution(tickets)"
   ]
  },
  {
   "cell_type": "code",
   "execution_count": 103,
   "id": "a4e28f2d",
   "metadata": {},
   "outputs": [
    {
     "data": {
      "text/plain": [
       "False"
      ]
     },
     "execution_count": 103,
     "metadata": {},
     "output_type": "execute_result"
    }
   ],
   "source": [
    "\"AAB\" > \"ADV\""
   ]
  }
 ],
 "metadata": {
  "kernelspec": {
   "display_name": "Python 3",
   "language": "python",
   "name": "python3"
  },
  "language_info": {
   "codemirror_mode": {
    "name": "ipython",
    "version": 3
   },
   "file_extension": ".py",
   "mimetype": "text/x-python",
   "name": "python",
   "nbconvert_exporter": "python",
   "pygments_lexer": "ipython3",
   "version": "3.9.4"
  }
 },
 "nbformat": 4,
 "nbformat_minor": 5
}
