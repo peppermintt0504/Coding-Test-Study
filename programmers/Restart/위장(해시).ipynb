{
 "cells": [
  {
   "cell_type": "code",
   "execution_count": 1,
   "id": "7fd2a0f7",
   "metadata": {},
   "outputs": [],
   "source": [
    "clothes = [[\"yellowhat\", \"headgear\"], [\"bluesunglasses\", \"eyewear\"], [\"green_turban\", \"headgear\"]]"
   ]
  },
  {
   "cell_type": "code",
   "execution_count": null,
   "id": "9b1cccb4",
   "metadata": {},
   "outputs": [],
   "source": [
    "clothes = [[\"crowmask\", \"face\"], [\"bluesunglasses\", \"face\"], [\"smoky_makeup\", \"face\"]]"
   ]
  },
  {
   "cell_type": "code",
   "execution_count": null,
   "id": "32f08604",
   "metadata": {},
   "outputs": [],
   "source": [
    "clothes ="
   ]
  },
  {
   "cell_type": "code",
   "execution_count": 67,
   "id": "134a7489",
   "metadata": {},
   "outputs": [
    {
     "name": "stdout",
     "output_type": "stream",
     "text": [
      "headgear\n",
      "eyewear\n"
     ]
    },
    {
     "data": {
      "text/plain": [
       "5"
      ]
     },
     "execution_count": 67,
     "metadata": {},
     "output_type": "execute_result"
    }
   ],
   "source": [
    "def solution(clothes):\n",
    "\n",
    "    key = {}\n",
    "    for cl1 in clothes:\n",
    "        if cl1[1] not in key.keys():\n",
    "            key[cl1[1]] = [cl1[0]]\n",
    "        else:\n",
    "            key[cl1[1]].append(cl1[0])\n",
    "            \n",
    "    answer = 1\n",
    "    \n",
    "    for k in key.keys():\n",
    "        answer *= len(key[k])+1       \n",
    "    \n",
    "    return answer - 1\n",
    "\n",
    "solution(clothes)"
   ]
  }
 ],
 "metadata": {
  "kernelspec": {
   "display_name": "Python 3",
   "language": "python",
   "name": "python3"
  },
  "language_info": {
   "codemirror_mode": {
    "name": "ipython",
    "version": 3
   },
   "file_extension": ".py",
   "mimetype": "text/x-python",
   "name": "python",
   "nbconvert_exporter": "python",
   "pygments_lexer": "ipython3",
   "version": "3.9.4"
  }
 },
 "nbformat": 4,
 "nbformat_minor": 5
}
