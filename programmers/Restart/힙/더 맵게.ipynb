{
 "cells": [
  {
   "cell_type": "code",
   "execution_count": 71,
   "id": "9eb665b3",
   "metadata": {},
   "outputs": [],
   "source": [
    "scoville = [1, 2, 3, 9, 10, 12]\n",
    "K = 7\n"
   ]
  },
  {
   "cell_type": "code",
   "execution_count": 72,
   "id": "4ea02485",
   "metadata": {},
   "outputs": [
    {
     "name": "stdout",
     "output_type": "stream",
     "text": [
      "[1, 2, 3, 9, 10, 12]\n",
      "[2, 9, 3, 12, 10]\n",
      "[3, 9, 10, 12]\n",
      "[3, 5, 10, 12, 9]\n",
      "[5, 9, 10, 12]\n",
      "[9, 12, 10]\n",
      "[9, 12, 10, 13]\n"
     ]
    },
    {
     "data": {
      "text/plain": [
       "2"
      ]
     },
     "execution_count": 72,
     "metadata": {},
     "output_type": "execute_result"
    }
   ],
   "source": [
    "import sys\n",
    "import heapq\n",
    "\n",
    "def heapsort(iterable):\n",
    "    h = []\n",
    "    result = []\n",
    "    \n",
    "    for value in iterable:\n",
    "        heapq.heappush(h,value)\n",
    "        \n",
    "    for i in range(len(h)):\n",
    "        result.append(heapq.heappop(h))\n",
    "        \n",
    "    return result\n",
    "\n",
    "\n",
    "def solution(scoville, K):\n",
    "    answer = 0\n",
    "    \n",
    "    heapsort(scoville)\n",
    "    print(scoville)\n",
    "    while(1):\n",
    "\n",
    "        if scoville[0] >= K :\n",
    "            return answer\n",
    "        \n",
    "        if len(scoville) == 1 :\n",
    "            return -1\n",
    "            \n",
    "        \n",
    "        temp_1 = heapq.heappop(scoville)\n",
    "        print(scoville)\n",
    "        temp_2 = heapq.heappop(scoville)\n",
    "        print(scoville)\n",
    "        temp = temp_1 + (temp_2 *2)\n",
    "        heapq.heappush(scoville,temp)\n",
    "\n",
    "        \n",
    "        answer += 1\n",
    "        \n",
    "        \n",
    "        \n",
    "        \n",
    "        \n",
    "        \n",
    "        print(scoville)\n",
    "\n",
    "\n",
    "solution(scoville, K)"
   ]
  },
  {
   "cell_type": "code",
   "execution_count": 33,
   "id": "c5552ded",
   "metadata": {},
   "outputs": [],
   "source": [
    "heapsort(iterable):\n"
   ]
  }
 ],
 "metadata": {
  "kernelspec": {
   "display_name": "Python 3",
   "language": "python",
   "name": "python3"
  },
  "language_info": {
   "codemirror_mode": {
    "name": "ipython",
    "version": 3
   },
   "file_extension": ".py",
   "mimetype": "text/x-python",
   "name": "python",
   "nbconvert_exporter": "python",
   "pygments_lexer": "ipython3",
   "version": "3.9.4"
  }
 },
 "nbformat": 4,
 "nbformat_minor": 5
}
