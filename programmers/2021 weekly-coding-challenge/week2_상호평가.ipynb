{
 "cells": [
  {
   "cell_type": "code",
   "execution_count": 1,
   "id": "73de78d7",
   "metadata": {},
   "outputs": [],
   "source": [
    "scores=[[100,90,98,88,65],[50,45,99,85,77],[47,88,95,80,67],[61,57,100,80,65],[24,90,94,75,65]]"
   ]
  },
  {
   "cell_type": "code",
   "execution_count": 34,
   "id": "a959667b",
   "metadata": {},
   "outputs": [
    {
     "data": {
      "text/plain": [
       "'FDBABD'"
      ]
     },
     "execution_count": 34,
     "metadata": {},
     "output_type": "execute_result"
    }
   ],
   "source": [
    "def solution(scores):\n",
    "    answer = ''\n",
    "    temp = [0] * len(scores)\n",
    "    \n",
    "    for i in range(len(scores)):\n",
    "        for j in range(len(scores[i])):\n",
    "            temp[j] = scores[j][i]\n",
    "           \n",
    "        if max(temp) == scores[i][i] and temp.count(max(temp)) == 1:\n",
    "            answer = answer + grading((sum(temp)-scores[i][i]) / (len(scores) -1))\n",
    "            continue\n",
    "            \n",
    "        if min(temp) == scores[i][i] and temp.count(min(temp)) == 1:\n",
    "            answer = answer + grading((sum(temp)-scores[i][i]) / (len(scores) -1))\n",
    "            continue\n",
    "            \n",
    "        answer = answer + grading(sum(temp)/len(scores))\n",
    "    return answer\n",
    "\n",
    "def grading(score):\n",
    "    if score >= 90 : return 'A'\n",
    "    if score >= 80 : return 'B'\n",
    "    if score >= 70 : return 'C'\n",
    "    if score >= 50 : return 'D'\n",
    "    return 'F'\n",
    "\n",
    "solution(scores)"
   ]
  }
 ],
 "metadata": {
  "kernelspec": {
   "display_name": "Python 3",
   "language": "python",
   "name": "python3"
  },
  "language_info": {
   "codemirror_mode": {
    "name": "ipython",
    "version": 3
   },
   "file_extension": ".py",
   "mimetype": "text/x-python",
   "name": "python",
   "nbconvert_exporter": "python",
   "pygments_lexer": "ipython3",
   "version": "3.9.4"
  }
 },
 "nbformat": 4,
 "nbformat_minor": 5
}
