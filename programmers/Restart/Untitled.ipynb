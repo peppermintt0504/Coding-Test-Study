{
 "cells": [
  {
   "cell_type": "code",
   "execution_count": 5,
   "id": "0c21b887",
   "metadata": {},
   "outputs": [],
   "source": [
    "genres =[\"classic\", \"pop\", \"classic\", \"classic\", \"pop\"]\t\n",
    "plays = [500, 600, 150, 800, 2500]"
   ]
  },
  {
   "cell_type": "code",
   "execution_count": 19,
   "id": "7038afc3",
   "metadata": {},
   "outputs": [
    {
     "name": "stdout",
     "output_type": "stream",
     "text": [
      "{'classic': [500, 150, 800], 'pop': [600, 2500]}\n"
     ]
    },
    {
     "data": {
      "text/plain": [
       "[]"
      ]
     },
     "execution_count": 19,
     "metadata": {},
     "output_type": "execute_result"
    }
   ],
   "source": [
    "def solution(genres, plays):\n",
    "    answer = []\n",
    "    key = {}\n",
    "    \n",
    "    for i in range(len(genres)):\n",
    "        if genres[i] in key :\n",
    "            key[genres[i]].append(plays[i])\n",
    "        else:\n",
    "            key[genres[i]] = [plays[i]]\n",
    "    print(key)\n",
    "    return answer\n",
    "\n",
    "\n",
    "solution(genres,plays)"
   ]
  }
 ],
 "metadata": {
  "kernelspec": {
   "display_name": "Python 3",
   "language": "python",
   "name": "python3"
  },
  "language_info": {
   "codemirror_mode": {
    "name": "ipython",
    "version": 3
   },
   "file_extension": ".py",
   "mimetype": "text/x-python",
   "name": "python",
   "nbconvert_exporter": "python",
   "pygments_lexer": "ipython3",
   "version": "3.9.4"
  }
 },
 "nbformat": 4,
 "nbformat_minor": 5
}
