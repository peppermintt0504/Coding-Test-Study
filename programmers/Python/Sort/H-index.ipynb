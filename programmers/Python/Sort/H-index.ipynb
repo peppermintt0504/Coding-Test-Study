{
 "cells": [
  {
   "cell_type": "code",
   "execution_count": 1,
   "id": "93c0e94e",
   "metadata": {},
   "outputs": [],
   "source": [
    "citations = [3, 0, 6, 1, 5]"
   ]
  },
  {
   "cell_type": "code",
   "execution_count": 7,
   "id": "46034610",
   "metadata": {},
   "outputs": [],
   "source": [
    "citations = [5, 5, 5, 5, 5]"
   ]
  },
  {
   "cell_type": "code",
   "execution_count": 10,
   "id": "244336dc",
   "metadata": {},
   "outputs": [
    {
     "name": "stdout",
     "output_type": "stream",
     "text": [
      "1\n",
      "2\n",
      "3\n",
      "4\n",
      "5\n"
     ]
    },
    {
     "data": {
      "text/plain": [
       "5"
      ]
     },
     "execution_count": 10,
     "metadata": {},
     "output_type": "execute_result"
    }
   ],
   "source": [
    "def H_index(citations) :\n",
    "\n",
    "    result = [0] * len(citations)\n",
    "\n",
    "    for i in range(1,len(citations)+1):\n",
    "        print(i)\n",
    "        for c in citations:\n",
    "            if c >= i : result[i-1] += 1\n",
    "\n",
    "        if result[i-1] < i : result[i-1] =0\n",
    "        else : result[i-1] = i\n",
    "    \n",
    "    return max(result)\n",
    "\n",
    "\n",
    "\n",
    "\n",
    "def solution(citations):\n",
    "    answer = H_index(citations)\n",
    "\n",
    "        \n",
    "    return answer\n",
    "\n",
    "\n",
    "H_score(citations)"
   ]
  }
 ],
 "metadata": {
  "kernelspec": {
   "display_name": "Python 3",
   "language": "python",
   "name": "python3"
  },
  "language_info": {
   "codemirror_mode": {
    "name": "ipython",
    "version": 3
   },
   "file_extension": ".py",
   "mimetype": "text/x-python",
   "name": "python",
   "nbconvert_exporter": "python",
   "pygments_lexer": "ipython3",
   "version": "3.9.4"
  }
 },
 "nbformat": 4,
 "nbformat_minor": 5
}
