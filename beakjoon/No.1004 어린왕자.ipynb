{
 "cells": [
  {
   "cell_type": "code",
   "execution_count": 34,
   "metadata": {},
   "outputs": [
    {
     "name": "stdout",
     "output_type": "stream",
     "text": [
      "1\n",
      "0 0 0 0\n",
      "1\n",
      "2 1 4\n",
      "0\n"
     ]
    }
   ],
   "source": [
    "import math\n",
    "\n",
    "T = int(input())\n",
    "\n",
    "for i in range(T):\n",
    "    \n",
    "    arri = [0,0]\n",
    "    \n",
    "    s_x,s_y,a_x,a_y = map(int,input().split(\" \"))\n",
    "    \n",
    "    #print(\"start :\",s_x,\",\",s_y)\n",
    "    #print(\"arrival :\",a_x,\",\",a_y)\n",
    "    \n",
    "    C = int(input())\n",
    "    result = 0\n",
    "    \n",
    "    \n",
    "    for j in range(C):\n",
    "        x,y,r = map(int,input().split(\" \"))\n",
    "        #print(\"x:\",x,\"y:\",y,\"r:\",r)\n",
    "        \n",
    "        s_d = math.sqrt(pow((s_x - x),2) + pow((s_y - y),2))\n",
    "        a_d = math.sqrt(pow((a_x - x),2) + pow((a_y - y),2))\n",
    "        \n",
    "        if s_d < r : s_in=True\n",
    "        else : s_in=False\n",
    "        if a_d < r : a_in=True\n",
    "        else : a_in=False\n",
    "        \n",
    "        #print(s_in)\n",
    "        #print(a_in)\n",
    "        \n",
    "        if s_in or a_in :\n",
    "            if s_in and a_in:count = 0\n",
    "            else: count = 1\n",
    "        else : count = 0\n",
    "        #print(count)\n",
    "        result += count\n",
    "        \n",
    "    print(result)"
   ]
  }
 ],
 "metadata": {
  "kernelspec": {
   "display_name": "Python 3",
   "language": "python",
   "name": "python3"
  },
  "language_info": {
   "codemirror_mode": {
    "name": "ipython",
    "version": 3
   },
   "file_extension": ".py",
   "mimetype": "text/x-python",
   "name": "python",
   "nbconvert_exporter": "python",
   "pygments_lexer": "ipython3",
   "version": "3.8.6"
  }
 },
 "nbformat": 4,
 "nbformat_minor": 4
}
