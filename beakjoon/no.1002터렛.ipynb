{
 "cells": [
  {
   "cell_type": "code",
   "execution_count": 25,
   "metadata": {},
   "outputs": [
    {
     "name": "stdout",
     "output_type": "stream",
     "text": [
      "1\n",
      "1 1 1 1 1 5\n",
      "0\n"
     ]
    }
   ],
   "source": [
    "import math\n",
    "a = []\n",
    "\n",
    "T = input()\n",
    "\n",
    "for i in range(int(T)):\n",
    "    a.append(input().split(\" \"))\n",
    "    r = int(math.sqrt(pow((int(a[i][0])-int(a[i][3])),2) + pow((int(a[i][1])-int(a[i][4])),2)))\n",
    "    \n",
    "    r1 = int(a[i][2])\n",
    "    r2 = int(a[i][5])\n",
    "    if r == 0 :\n",
    "        if r1 != r2: result = 0\n",
    "        elif r1 == r2: result = -1\n",
    "    \n",
    "    else : \n",
    "        if r > r1 + r2 : result = 0\n",
    "        elif r == r1 + r2 : result = 1\n",
    "        else : result = 2\n",
    "    \n",
    "    print(result)\n",
    "\n"
   ]
  }
 ],
 "metadata": {
  "kernelspec": {
   "display_name": "Python 3",
   "language": "python",
   "name": "python3"
  },
  "language_info": {
   "codemirror_mode": {
    "name": "ipython",
    "version": 3
   },
   "file_extension": ".py",
   "mimetype": "text/x-python",
   "name": "python",
   "nbconvert_exporter": "python",
   "pygments_lexer": "ipython3",
   "version": "3.8.6"
  }
 },
 "nbformat": 4,
 "nbformat_minor": 4
}
