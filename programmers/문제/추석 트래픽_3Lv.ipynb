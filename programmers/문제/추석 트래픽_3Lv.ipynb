{
 "cells": [
  {
   "cell_type": "code",
   "execution_count": 114,
   "id": "20e4b5d1",
   "metadata": {},
   "outputs": [],
   "source": [
    "lines =  [\n",
    "\"2016-09-15 20:59:57.421 0.351s\",\n",
    "\"2016-09-15 20:59:58.233 1.181s\",\n",
    "\"2016-09-15 20:59:58.299 0.8s\",\n",
    "\"2016-09-15 20:59:58.688 1.041s\",\n",
    "\"2016-09-15 20:59:59.591 1.412s\",\n",
    "\"2016-09-15 21:00:00.464 1.466s\",\n",
    "\"2016-09-15 21:00:00.741 1.581s\",\n",
    "\"2016-09-15 21:00:00.748 2.31s\",\n",
    "\"2016-09-15 21:00:00.966 0.381s\",\n",
    "\"2016-09-15 21:00:02.066 2.62s\"\n",
    "]"
   ]
  },
  {
   "cell_type": "code",
   "execution_count": 170,
   "id": "33d50faf",
   "metadata": {},
   "outputs": [],
   "source": [
    "lines = [\"2016-09-15 01:00:04.001 2.0s\", \"2016-09-15 01:00:07.000 2s\"]"
   ]
  },
  {
   "cell_type": "code",
   "execution_count": 171,
   "id": "396c9ab6",
   "metadata": {},
   "outputs": [
    {
     "name": "stdout",
     "output_type": "stream",
     "text": [
      "[0.0, 2.999]\n",
      "[2.0, 4.999]\n",
      "0.0 --- 0.999\n",
      "2.0 --- 2.999\n",
      "2.999 --- 3.998\n",
      "4.999 --- 5.998\n",
      "3602.002\n"
     ]
    },
    {
     "data": {
      "text/plain": [
       "2"
      ]
     },
     "execution_count": 171,
     "metadata": {},
     "output_type": "execute_result"
    }
   ],
   "source": [
    "def solution(lines):\n",
    "    answer = 0\n",
    "    date = []\n",
    "    start= []\n",
    "    end = []\n",
    "    test = 0\n",
    "    temp = 0\n",
    "    \n",
    "    proc = []\n",
    "    \n",
    "    start_time = float(str(int(lines[0].split()[1][:2])*3600 + int(lines[0].split()[1][3:5])*60 + int(lines[0].split()[1][6:8])) + str(lines[0].split()[1][8:]))\n",
    "    start_time = round(start_time - float(lines[0].split()[2][:-1])+0.001,3)\n",
    "    \n",
    "    for i in range(len(lines)):\n",
    "        temp = lines[i].split()\n",
    "        date.append(temp[0])\n",
    "        end.append(round(float(str(int(temp[1][:2])*3600 + int(temp[1][3:5])*60 + int(temp[1][6:8])) + str(temp[1][8:])) - start_time+0.001,3))\n",
    "        start.append(round(end[i]-float(temp[2][:-1])+0,3))\n",
    "    \n",
    "    print(start)\n",
    "    print(end)\n",
    "\n",
    "    for i in range(len(lines)):\n",
    "        temp = 0\n",
    "        test_s = start[i]\n",
    "        test_e = round(start[i]+0.999,3)\n",
    "        print(test_s,\"---\",test_e)\n",
    "        for j in range(len(lines)):\n",
    "            if start[j] > test_e:\n",
    "                continue\n",
    "            if end[j] < test_s :\n",
    "                continue\n",
    "            temp += 1\n",
    "                \n",
    "        if temp > answer : \n",
    "            answer = temp\n",
    "            \n",
    "        \n",
    "        temp = 0\n",
    "        test_s = round(end[i],3)\n",
    "        test_e = round(end[i]+0.999,3)\n",
    "        print(test_s,\"---\",test_e)\n",
    "        for j in range(len(lines)):\n",
    "            if start[j] > test_e:\n",
    "                continue\n",
    "            if end[j] < test_s :\n",
    "                continue\n",
    "            \n",
    "            temp += 1\n",
    "                \n",
    "                \n",
    "        if temp > answer : \n",
    "            answer = temp\n",
    "                \n",
    "    print(start_time)\n",
    "    return answer\n",
    "\n",
    "solution(lines)"
   ]
  }
 ],
 "metadata": {
  "kernelspec": {
   "display_name": "Python 3",
   "language": "python",
   "name": "python3"
  },
  "language_info": {
   "codemirror_mode": {
    "name": "ipython",
    "version": 3
   },
   "file_extension": ".py",
   "mimetype": "text/x-python",
   "name": "python",
   "nbconvert_exporter": "python",
   "pygments_lexer": "ipython3",
   "version": "3.9.4"
  }
 },
 "nbformat": 4,
 "nbformat_minor": 5
}
