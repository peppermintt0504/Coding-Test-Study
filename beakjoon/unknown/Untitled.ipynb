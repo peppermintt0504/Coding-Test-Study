{
 "cells": [
  {
   "cell_type": "code",
   "execution_count": 24,
   "id": "9eb32082",
   "metadata": {},
   "outputs": [
    {
     "name": "stdout",
     "output_type": "stream",
     "text": [
      "5 2\n",
      "10\n"
     ]
    }
   ],
   "source": [
    "import sys,math\n",
    "\n",
    "#n,k=map(int,sys.stdio.readline().split(\" \"))\n",
    "\n",
    "n, k=map(int,input().split(\" \"))\n",
    "\n",
    "print(int((math.factorial(n) / (math.factorial(k) * math.factorial(n-k)))% 1000000007))"
   ]
  }
 ],
 "metadata": {
  "kernelspec": {
   "display_name": "Python 3",
   "language": "python",
   "name": "python3"
  },
  "language_info": {
   "codemirror_mode": {
    "name": "ipython",
    "version": 3
   },
   "file_extension": ".py",
   "mimetype": "text/x-python",
   "name": "python",
   "nbconvert_exporter": "python",
   "pygments_lexer": "ipython3",
   "version": "3.9.4"
  }
 },
 "nbformat": 4,
 "nbformat_minor": 5
}
