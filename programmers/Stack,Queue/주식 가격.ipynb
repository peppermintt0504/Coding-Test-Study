{
 "cells": [
  {
   "cell_type": "code",
   "execution_count": 1,
   "id": "dce7b129",
   "metadata": {},
   "outputs": [],
   "source": [
    "prices = [1, 2, 3, 2, 3]"
   ]
  },
  {
   "cell_type": "code",
   "execution_count": 13,
   "id": "0f26615f",
   "metadata": {},
   "outputs": [
    {
     "name": "stdout",
     "output_type": "stream",
     "text": [
      "\n",
      "i =  0 \n",
      "\n",
      "j =  1\n",
      "j =  2\n",
      "j =  3\n",
      "j =  4\n",
      "\n",
      "i =  1 \n",
      "\n",
      "j =  2\n",
      "j =  3\n",
      "j =  4\n",
      "\n",
      "i =  2 \n",
      "\n",
      "j =  3\n",
      "\n",
      "i =  3 \n",
      "\n",
      "j =  4\n",
      "\n",
      "i =  4 \n",
      "\n"
     ]
    },
    {
     "data": {
      "text/plain": [
       "[4, 3, 1, 1, 0]"
      ]
     },
     "execution_count": 13,
     "metadata": {},
     "output_type": "execute_result"
    }
   ],
   "source": [
    "def solution(prices):\n",
    "    answer = []\n",
    "    \n",
    "    for i in range(len(prices)):\n",
    "        answer.append(0)\n",
    "        print(\"\\n\"\"i = \",i,\"\\n\")\n",
    "        for j in range(i+1, len(prices)):\n",
    "            print(\"j = \",j)\n",
    "            if prices[i] <= prices[j] : \n",
    "                answer[-1] += 1\n",
    "            else:\n",
    "                answer[-1] += 1\n",
    "                break\n",
    "   \n",
    "\n",
    "\n",
    "    return answer\n",
    "\n",
    "solution(prices)"
   ]
  },
  {
   "cell_type": "code",
   "execution_count": null,
   "id": "d0058fb6",
   "metadata": {},
   "outputs": [],
   "source": []
  }
 ],
 "metadata": {
  "kernelspec": {
   "display_name": "Python 3",
   "language": "python",
   "name": "python3"
  },
  "language_info": {
   "codemirror_mode": {
    "name": "ipython",
    "version": 3
   },
   "file_extension": ".py",
   "mimetype": "text/x-python",
   "name": "python",
   "nbconvert_exporter": "python",
   "pygments_lexer": "ipython3",
   "version": "3.9.4"
  }
 },
 "nbformat": 4,
 "nbformat_minor": 5
}
