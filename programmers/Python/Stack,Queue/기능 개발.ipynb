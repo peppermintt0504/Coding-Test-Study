{
 "cells": [
  {
   "cell_type": "code",
   "execution_count": 24,
   "id": "f4b32e5f",
   "metadata": {},
   "outputs": [],
   "source": [
    "progresses = [93, 30, 55]\n",
    "speeds = [1, 30, 5]\n"
   ]
  },
  {
   "cell_type": "code",
   "execution_count": 23,
   "id": "7abca7b5",
   "metadata": {},
   "outputs": [],
   "source": [
    "def solution(progresses, speeds):\n",
    "    answer = []\n",
    "    for a in range(len(progresses)) :\n",
    "        if(progresses[a] < 100):\n",
    "            while(progresses[a] < 100) :\n",
    "                for r in range(len(progresses)) :\n",
    "                    progresses[r] = progresses[r] + speeds[r]\n",
    "                print(progresses)\n",
    "            answer.append(1)\n",
    "        else:\n",
    "            answer[-1] =answer[-1] + 1\n",
    "            \n",
    "    return answer"
   ]
  },
  {
   "cell_type": "code",
   "execution_count": 25,
   "id": "0ffdc034",
   "metadata": {},
   "outputs": [
    {
     "name": "stdout",
     "output_type": "stream",
     "text": [
      "[94, 60, 60]\n",
      "[95, 90, 65]\n",
      "[96, 120, 70]\n",
      "[97, 150, 75]\n",
      "[98, 180, 80]\n",
      "[99, 210, 85]\n",
      "[100, 240, 90]\n",
      "[101, 270, 95]\n",
      "[102, 300, 100]\n"
     ]
    },
    {
     "data": {
      "text/plain": [
       "[2, 1]"
      ]
     },
     "execution_count": 25,
     "metadata": {},
     "output_type": "execute_result"
    }
   ],
   "source": [
    "solution(progresses, speeds)"
   ]
  },
  {
   "cell_type": "code",
   "execution_count": null,
   "id": "4f5f3d85",
   "metadata": {},
   "outputs": [],
   "source": []
  }
 ],
 "metadata": {
  "kernelspec": {
   "display_name": "Python 3",
   "language": "python",
   "name": "python3"
  },
  "language_info": {
   "codemirror_mode": {
    "name": "ipython",
    "version": 3
   },
   "file_extension": ".py",
   "mimetype": "text/x-python",
   "name": "python",
   "nbconvert_exporter": "python",
   "pygments_lexer": "ipython3",
   "version": "3.9.4"
  }
 },
 "nbformat": 4,
 "nbformat_minor": 5
}
