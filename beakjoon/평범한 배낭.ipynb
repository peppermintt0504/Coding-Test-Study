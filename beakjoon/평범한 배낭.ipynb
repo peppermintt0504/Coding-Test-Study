{
 "cells": [
  {
   "cell_type": "code",
   "execution_count": 20,
   "metadata": {},
   "outputs": [],
   "source": [
    "from itertools import combinations\n",
    "\n"
   ]
  },
  {
   "cell_type": "code",
   "execution_count": 52,
   "metadata": {
    "scrolled": true
   },
   "outputs": [
    {
     "name": "stdout",
     "output_type": "stream",
     "text": [
      "4 7\n",
      "6 13\n",
      "4 8\n",
      "3 6\n",
      "5 12\n"
     ]
    }
   ],
   "source": [
    "a = input()\n",
    "n,k = map(int,a.split(\" \"))\n",
    "\n",
    "o = []\n",
    "\n",
    "for i in range(n):\n",
    "    a = input()\n",
    "    w , v = map(int, a.split(\" \"))\n",
    "    o.append([w,v])\n",
    "    \n"
   ]
  },
  {
   "cell_type": "code",
   "execution_count": 54,
   "metadata": {},
   "outputs": [
    {
     "name": "stdout",
     "output_type": "stream",
     "text": [
      "14\n"
     ]
    }
   ],
   "source": [
    "total=[]\n",
    "\n",
    "for c in range(1,n+1):\n",
    "    for i in list(combinations(o,c)):\n",
    "        tot_w = 0\n",
    "        tot_v = 0\n",
    "        for j in range(c):\n",
    "            tot_w = tot_w + i[j][0]\n",
    "            if(tot_w>k):break\n",
    "            tot_v = tot_v + i[j][1]\n",
    "        if(tot_w>k):continue\n",
    "        total.append(tot_v)\n",
    "\n",
    "print(max(total))"
   ]
  }
 ],
 "metadata": {
  "kernelspec": {
   "display_name": "Python 3",
   "language": "python",
   "name": "python3"
  },
  "language_info": {
   "codemirror_mode": {
    "name": "ipython",
    "version": 3
   },
   "file_extension": ".py",
   "mimetype": "text/x-python",
   "name": "python",
   "nbconvert_exporter": "python",
   "pygments_lexer": "ipython3",
   "version": "3.8.5"
  }
 },
 "nbformat": 4,
 "nbformat_minor": 4
}
