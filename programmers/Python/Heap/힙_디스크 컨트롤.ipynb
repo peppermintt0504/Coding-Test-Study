{
 "cells": [
  {
   "cell_type": "code",
   "execution_count": 1,
   "id": "6b46a1b8",
   "metadata": {},
   "outputs": [],
   "source": [
    "jobs = [[0, 3], [1, 9], [2, 6]]"
   ]
  },
  {
   "cell_type": "code",
   "execution_count": 63,
   "id": "d15cf3c4",
   "metadata": {},
   "outputs": [],
   "source": [
    "jobs=[[0,5],[100,5]]"
   ]
  },
  {
   "cell_type": "code",
   "execution_count": 77,
   "id": "5c32fdeb",
   "metadata": {},
   "outputs": [
    {
     "data": {
      "text/plain": [
       "5"
      ]
     },
     "execution_count": 77,
     "metadata": {},
     "output_type": "execute_result"
    }
   ],
   "source": [
    "from heapq import heappush, heappop \n",
    "\n",
    "def solution(jobs):\n",
    "    answer = 0\n",
    "    schedule = []\n",
    "    num = 0\n",
    "    \n",
    "    time = min(jobs)[0]\n",
    "    \n",
    "    #heap 정렬\n",
    "    for i in range(len(jobs)):\n",
    "        heappush(schedule,jobs[i])\n",
    "        \n",
    "    for i in range(len(jobs)):\n",
    "        temp = []\n",
    "        min_num = []\n",
    "        \n",
    "        #실행 가능한 job 선별\n",
    "        for j in range(len(schedule)):\n",
    "            num = heappop(schedule)\n",
    "            if num[0] <= time:\n",
    "                temp.append(num)\n",
    "            else:\n",
    "                heappush(schedule,num)\n",
    "                break\n",
    "               \n",
    "        if temp == []:\n",
    "            num = heappop(schedule)\n",
    "            time = num[0]\n",
    "            temp.append(num)\n",
    "        \n",
    "        \n",
    "            \n",
    "        #가장 짧은 job 구하기    \n",
    "        for i in range(len(temp)):\n",
    "            if min_num == [] :#min이 비어있을 경우\n",
    "                min_num = temp[i]\n",
    "                continue\n",
    "                \n",
    "            if min_num[1] > temp[i][1]:\n",
    "                min_num = temp[i]\n",
    "        \n",
    "        \n",
    "        check = 0\n",
    "        for i in range(len(temp)):\n",
    "            if temp[i][1] == min_num[1] and check == 0:\n",
    "                check = 1\n",
    "                continue\n",
    "            heappush(schedule,temp[i])\n",
    "            \n",
    "            \n",
    "        \n",
    "        \n",
    "        \n",
    "        time += min_num[1]\n",
    "        answer += time - min_num[0]\n",
    "        \n",
    "        \n",
    "    \n",
    "    \n",
    "    return int(answer / len(jobs))\n",
    "\n",
    "solution(jobs)"
   ]
  }
 ],
 "metadata": {
  "kernelspec": {
   "display_name": "Python 3",
   "language": "python",
   "name": "python3"
  },
  "language_info": {
   "codemirror_mode": {
    "name": "ipython",
    "version": 3
   },
   "file_extension": ".py",
   "mimetype": "text/x-python",
   "name": "python",
   "nbconvert_exporter": "python",
   "pygments_lexer": "ipython3",
   "version": "3.9.4"
  }
 },
 "nbformat": 4,
 "nbformat_minor": 5
}
