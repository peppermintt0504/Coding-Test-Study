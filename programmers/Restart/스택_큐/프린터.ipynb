{
 "cells": [
  {
   "cell_type": "code",
   "execution_count": 72,
   "id": "7071272c",
   "metadata": {},
   "outputs": [],
   "source": [
    "priorities = [2, 1, 3, 2]\n",
    "location = 2\n",
    "\n",
    "def solution(priorities, location):\n",
    "    answer = 0\n",
    "    temp = []\n",
    "    count = 0\n",
    "    while(1):\n",
    "        max_v = max(priorities)\n",
    "        \n",
    "        if priorities[count] == max_v :\n",
    "            temp.append(count)\n",
    "            priorities[count] = 0\n",
    "            \n",
    "        count = (count + 1) % len(priorities)  \n",
    "        \n",
    "        if len(temp) == len(priorities):\n",
    "            break\n",
    "    answer = temp.index(location) + 1\n",
    "    return answer"
   ]
  },
  {
   "cell_type": "code",
   "execution_count": 73,
   "id": "01416aeb",
   "metadata": {},
   "outputs": [
    {
     "data": {
      "text/plain": [
       "1"
      ]
     },
     "execution_count": 73,
     "metadata": {},
     "output_type": "execute_result"
    }
   ],
   "source": [
    "solution(priorities, location)"
   ]
  },
  {
   "cell_type": "code",
   "execution_count": 49,
   "id": "0ec7f92c",
   "metadata": {},
   "outputs": [
    {
     "data": {
      "text/plain": [
       "4"
      ]
     },
     "execution_count": 49,
     "metadata": {},
     "output_type": "execute_result"
    }
   ],
   "source": [
    "len(priorities)"
   ]
  },
  {
   "cell_type": "code",
   "execution_count": null,
   "id": "212eb79f",
   "metadata": {},
   "outputs": [],
   "source": []
  }
 ],
 "metadata": {
  "kernelspec": {
   "display_name": "Python 3",
   "language": "python",
   "name": "python3"
  },
  "language_info": {
   "codemirror_mode": {
    "name": "ipython",
    "version": 3
   },
   "file_extension": ".py",
   "mimetype": "text/x-python",
   "name": "python",
   "nbconvert_exporter": "python",
   "pygments_lexer": "ipython3",
   "version": "3.9.4"
  }
 },
 "nbformat": 4,
 "nbformat_minor": 5
}
