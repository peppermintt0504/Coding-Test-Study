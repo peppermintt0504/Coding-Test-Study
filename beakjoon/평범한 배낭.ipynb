{
 "cells": [
  {
   "cell_type": "code",
   "execution_count": 8,
   "metadata": {},
   "outputs": [],
   "source": [
    "from itertools import combinations\n",
    "\n"
   ]
  },
  {
   "cell_type": "code",
   "execution_count": 9,
   "metadata": {
    "scrolled": true
   },
   "outputs": [
    {
     "name": "stdout",
     "output_type": "stream",
     "text": [
      "4 7\n",
      "[[0, 0, 0, 0, 0, 0, 0, 0], [0, 0, 0, 0, 0, 0, 0, 0], [0, 0, 0, 0, 0, 0, 0, 0], [0, 0, 0, 0, 0, 0, 0, 0], [0, 0, 0, 0, 0, 0, 0, 0]]\n",
      "6 13\n",
      "4 8\n",
      "3 6\n",
      "5 12\n"
     ]
    }
   ],
   "source": [
    "n,k = map(int,input().split(\" \"))\n",
    "\n",
    "o = [[]]\n",
    "arr = [[0]*(k+1) for _ in range(n+1)]\n",
    "print(arr)\n",
    "for i in range(n):\n",
    "    o.append(list(map(int, input().split(\" \"))))\n",
    "    \n"
   ]
  },
  {
   "cell_type": "code",
   "execution_count": 15,
   "metadata": {},
   "outputs": [
    {
     "name": "stdout",
     "output_type": "stream",
     "text": [
      "w,v =  6 13\n",
      "j= 1 :\n",
      "j-w < 0\n",
      "arr[i][j]= 0\n",
      "j= 2 :\n",
      "j-w < 0\n",
      "arr[i][j]= 0\n",
      "j= 3 :\n",
      "j-w < 0\n",
      "arr[i][j]= 0\n",
      "j= 4 :\n",
      "j-w < 0\n",
      "arr[i][j]= 0\n",
      "j= 5 :\n",
      "j-w < 0\n",
      "arr[i][j]= 0\n",
      "j= 6 :\n",
      "j-w > 0\n",
      "arr[i][j]= 13\n",
      "j= 7 :\n",
      "j-w > 0\n",
      "arr[i][j]= 13\n",
      "w,v =  4 8\n",
      "j= 1 :\n",
      "j-w < 0\n",
      "arr[i][j]= 0\n",
      "j= 2 :\n",
      "j-w < 0\n",
      "arr[i][j]= 0\n",
      "j= 3 :\n",
      "j-w < 0\n",
      "arr[i][j]= 0\n",
      "j= 4 :\n",
      "j-w > 0\n",
      "arr[i][j]= 8\n",
      "j= 5 :\n",
      "j-w > 0\n",
      "arr[i][j]= 8\n",
      "j= 6 :\n",
      "j-w > 0\n",
      "arr[i][j]= 13\n",
      "j= 7 :\n",
      "j-w > 0\n",
      "arr[i][j]= 13\n",
      "w,v =  3 6\n",
      "j= 1 :\n",
      "j-w < 0\n",
      "arr[i][j]= 0\n",
      "j= 2 :\n",
      "j-w < 0\n",
      "arr[i][j]= 0\n",
      "j= 3 :\n",
      "j-w > 0\n",
      "arr[i][j]= 6\n",
      "j= 4 :\n",
      "j-w > 0\n",
      "arr[i][j]= 8\n",
      "j= 5 :\n",
      "j-w > 0\n",
      "arr[i][j]= 8\n",
      "j= 6 :\n",
      "j-w > 0\n",
      "arr[i][j]= 13\n",
      "j= 7 :\n",
      "j-w > 0\n",
      "arr[i][j]= 14\n",
      "w,v =  5 12\n",
      "j= 1 :\n",
      "j-w < 0\n",
      "arr[i][j]= 0\n",
      "j= 2 :\n",
      "j-w < 0\n",
      "arr[i][j]= 0\n",
      "j= 3 :\n",
      "j-w < 0\n",
      "arr[i][j]= 6\n",
      "j= 4 :\n",
      "j-w < 0\n",
      "arr[i][j]= 8\n",
      "j= 5 :\n",
      "j-w > 0\n",
      "arr[i][j]= 12\n",
      "j= 6 :\n",
      "j-w > 0\n",
      "arr[i][j]= 13\n",
      "j= 7 :\n",
      "j-w > 0\n",
      "arr[i][j]= 14\n",
      "14\n"
     ]
    }
   ],
   "source": [
    "for i in range(1, n+1):\n",
    "    w, v = o[i]\n",
    "    print(\"w,v = \",w,v)\n",
    "    for j in range(1, k+1):\n",
    "        print(\"j=\",j,\":\")\n",
    "        if j-w < 0:\n",
    "            print(\"j-w < 0\")\n",
    "            arr[i][j] = arr[i-1][j]\n",
    "            print(\"arr[i][j]=\",arr[i][j])\n",
    "        else:\n",
    "            print(\"j-w > 0\")\n",
    "            arr[i][j] = max(arr[i-1][j], arr[i-1][j-w]+v)\n",
    "            print(\"arr[i][j]=\",arr[i][j])\n",
    "            \n",
    "            \n",
    "print(arr[n][k])"
   ]
  }
 ],
 "metadata": {
  "kernelspec": {
   "display_name": "Python 3",
   "language": "python",
   "name": "python3"
  },
  "language_info": {
   "codemirror_mode": {
    "name": "ipython",
    "version": 3
   },
   "file_extension": ".py",
   "mimetype": "text/x-python",
   "name": "python",
   "nbconvert_exporter": "python",
   "pygments_lexer": "ipython3",
   "version": "3.8.5"
  }
 },
 "nbformat": 4,
 "nbformat_minor": 4
}
