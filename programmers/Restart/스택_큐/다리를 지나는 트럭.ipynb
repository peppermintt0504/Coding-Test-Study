{
 "cells": [
  {
   "cell_type": "code",
   "execution_count": 124,
   "id": "f5c9e54a",
   "metadata": {},
   "outputs": [],
   "source": [
    "bridge_length = 2\n",
    "weight = 10\n",
    "truck_weights = [7,4,5,6]"
   ]
  },
  {
   "cell_type": "code",
   "execution_count": 149,
   "id": "73f0d98d",
   "metadata": {},
   "outputs": [],
   "source": [
    "bridge_length = 100\n",
    "weight = 100\n",
    "truck_weights = [10]"
   ]
  },
  {
   "cell_type": "code",
   "execution_count": 72,
   "id": "e5d56c9f",
   "metadata": {},
   "outputs": [],
   "source": [
    "bridge_length = 100\n",
    "weight = 20\n",
    "truck_weights = [10, 15 , 3 ,2, 20, 10, 10]"
   ]
  },
  {
   "cell_type": "code",
   "execution_count": 151,
   "id": "e4f252ff",
   "metadata": {},
   "outputs": [],
   "source": [
    "bridge_length = 100\n",
    "weight = 100\n",
    "truck_weights = [10,10,10,10,10,10,10,10,10,10]"
   ]
  },
  {
   "cell_type": "code",
   "execution_count": 147,
   "id": "8fb98249",
   "metadata": {},
   "outputs": [],
   "source": [
    "def solution(bridge_length, weight, truck_weights):\n",
    "    answer = 0\n",
    "    temp = []\n",
    "    temp_w = []\n",
    "    w = 0\n",
    "    time = 0\n",
    "    \n",
    "    if len(truck_weights) == 1 : \n",
    "        answer = bridge_length + 1\n",
    "        return answer \n",
    "    \n",
    "    while(1):\n",
    "        time +=  1\n",
    "        \n",
    "        if len(temp) == 0 :\n",
    "            if w == len(truck_weights):\n",
    "                print(\"end prog\")\n",
    "                break\n",
    "            temp.append(time)\n",
    "            temp_w.append(truck_weights[w])\n",
    "            w += 1\n",
    "            print(\"crossing bridge =>\", temp_w, \"    time : \",time)\n",
    "            continue\n",
    "            \n",
    "        if time - temp[0] == bridge_length :\n",
    "            temp = temp[1:]\n",
    "            temp_w = temp_w[1:]\n",
    "            time -= 1\n",
    "            print(\"arrive end\",\"    time : \",time)\n",
    "            continue\n",
    "        \n",
    "        if w != len(truck_weights):\n",
    "            if sum(temp_w) + truck_weights[w] <= weight :\n",
    "                temp.append(time)\n",
    "                temp_w.append(truck_weights[w])\n",
    "                w += 1\n",
    "                print(\"crossing bridge =>\", temp_w, \"    time : \",time)\n",
    "                continue\n",
    "            \n",
    "    answer = time\n",
    "    \n",
    "    return answer"
   ]
  },
  {
   "cell_type": "code",
   "execution_count": 152,
   "id": "f5044966",
   "metadata": {},
   "outputs": [
    {
     "name": "stdout",
     "output_type": "stream",
     "text": [
      "crossing bridge => [10]     time :  1\n",
      "crossing bridge => [10, 10]     time :  2\n",
      "crossing bridge => [10, 10, 10]     time :  3\n",
      "crossing bridge => [10, 10, 10, 10]     time :  4\n",
      "crossing bridge => [10, 10, 10, 10, 10]     time :  5\n",
      "crossing bridge => [10, 10, 10, 10, 10, 10]     time :  6\n",
      "crossing bridge => [10, 10, 10, 10, 10, 10, 10]     time :  7\n",
      "crossing bridge => [10, 10, 10, 10, 10, 10, 10, 10]     time :  8\n",
      "crossing bridge => [10, 10, 10, 10, 10, 10, 10, 10, 10]     time :  9\n",
      "crossing bridge => [10, 10, 10, 10, 10, 10, 10, 10, 10, 10]     time :  10\n",
      "arrive end     time :  100\n",
      "arrive end     time :  101\n",
      "arrive end     time :  102\n",
      "arrive end     time :  103\n",
      "arrive end     time :  104\n",
      "arrive end     time :  105\n",
      "arrive end     time :  106\n",
      "arrive end     time :  107\n",
      "arrive end     time :  108\n",
      "arrive end     time :  109\n",
      "end prog\n"
     ]
    },
    {
     "data": {
      "text/plain": [
       "110"
      ]
     },
     "execution_count": 152,
     "metadata": {},
     "output_type": "execute_result"
    }
   ],
   "source": [
    "solution(bridge_length, weight, truck_weights)"
   ]
  }
 ],
 "metadata": {
  "kernelspec": {
   "display_name": "Python 3",
   "language": "python",
   "name": "python3"
  },
  "language_info": {
   "codemirror_mode": {
    "name": "ipython",
    "version": 3
   },
   "file_extension": ".py",
   "mimetype": "text/x-python",
   "name": "python",
   "nbconvert_exporter": "python",
   "pygments_lexer": "ipython3",
   "version": "3.9.4"
  }
 },
 "nbformat": 4,
 "nbformat_minor": 5
}
