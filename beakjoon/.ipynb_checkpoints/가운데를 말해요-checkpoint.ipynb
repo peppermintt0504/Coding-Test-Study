{
 "cells": [
  {
   "cell_type": "code",
   "execution_count": 1,
   "metadata": {},
   "outputs": [],
   "source": [
    "import itertools"
   ]
  },
  {
   "cell_type": "code",
   "execution_count": 2,
   "metadata": {},
   "outputs": [
    {
     "name": "stdout",
     "output_type": "stream",
     "text": [
      "0\n"
     ]
    }
   ],
   "source": [
    "import heapq\n",
    "\n",
    "arr_a = []\n",
    "arr_b = []\n",
    "\n",
    "n = int(input())\n",
    "for i in range(n):\n",
    "    \n",
    "    a = int(input())\n",
    "\n",
    "    if i%2 == 0 :\n",
    "        heapq.heappush(arr_a,a)\n",
    "    else :\n",
    "        heapq.heappush(arr_b,-a)\n",
    "    \n",
    "#     print('l = ',arr_a,' r = ',arr_b)\n",
    "    \n",
    "    if arr_b and -arr_b[0] > arr_a[0]:\n",
    "        heapq.heappush(arr_a, -heapq.heappop(arr_b))\n",
    "        heapq.heappush(arr_b, -heapq.heappop(arr_a))\n",
    "#         print('l = ',arr_a,' r = ',arr_b)\n",
    "    print(-arr_a[0])"
   ]
  },
  {
   "cell_type": "code",
   "execution_count": null,
   "metadata": {},
   "outputs": [],
   "source": [
    "import sys, heapq\n",
    "\n",
    "# 외치는 정수의 개수\n",
    "n = int(sys.stdin.readline())\n",
    "# 작은 값과 -중간값-을 저장할 힙과 큰 값을 저장할 힙으로 나눈다.\n",
    "left_heap = []\n",
    "right_heap = []\n",
    "# n번 말하기\n",
    "for i in range(n):\n",
    "    # 수빈이가 외친 값 입력\n",
    "    num = int(sys.stdin.readline())\n",
    "    # 돌아가면서 left_heap과 right_heap에 넣어준다. (left_heap 먼저)\n",
    "    if i % 2:\n",
    "        # 큰 값이 저장된 right힙에서 필요한 값은 최솟값이므로 최소 힙\n",
    "        heapq.heappush(right_heap, num)\n",
    "    else:\n",
    "        # 작은 값이 저장된 left힙에서 필요한 값은 최댓값이므로 최대 힙\n",
    "        heapq.heappush(left_heap, -num)\n",
    "    \n",
    "    # 만약 left힙에 right힙보다 큰 값이 저장되었으면 바꿔준다.\n",
    "    if right_heap and -left_heap[0] > right_heap[0]:\n",
    "        heapq.heappush(right_heap, -heapq.heappop(left_heap))\n",
    "        heapq.heappush(left_heap, -heapq.heappop(right_heap))\n",
    "\n",
    "    # left힙에서 가장 큰 값 출력\n",
    "    print(-left_heap[0])"
   ]
  },
  {
   "cell_type": "code",
   "execution_count": 46,
   "metadata": {},
   "outputs": [
    {
     "name": "stdout",
     "output_type": "stream",
     "text": [
      "5\n",
      "[5]\n",
      "2\n",
      "[2, 5]\n",
      "1\n",
      "[1, 5, 2]\n",
      "7\n",
      "[1, 5, 2, 7]\n",
      "0\n",
      "[0, 1, 2, 7, 5]\n"
     ]
    }
   ],
   "source": [
    "c = []\n",
    "for i in range(5) :\n",
    "    heapq.heappush(c,int(input()))\n",
    "    print(c)"
   ]
  }
 ],
 "metadata": {
  "kernelspec": {
   "display_name": "Python 3",
   "language": "python",
   "name": "python3"
  },
  "language_info": {
   "codemirror_mode": {
    "name": "ipython",
    "version": 3
   },
   "file_extension": ".py",
   "mimetype": "text/x-python",
   "name": "python",
   "nbconvert_exporter": "python",
   "pygments_lexer": "ipython3",
   "version": "3.9.4"
  }
 },
 "nbformat": 4,
 "nbformat_minor": 4
}
